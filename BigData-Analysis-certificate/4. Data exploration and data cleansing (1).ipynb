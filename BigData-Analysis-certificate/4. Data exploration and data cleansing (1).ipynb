{
 "cells": [
  {
   "cell_type": "markdown",
   "id": "95c39171",
   "metadata": {},
   "source": [
    "## 4. Exploratory Data Analysis \n",
    "+ 탐색적 데이터 분석이란?\n",
    "\n",
    "### 학습 순서\n",
    "__1. 단변량 데이터 탐색__  \n",
    "__2. 이상치 처리__  \n",
    "__3. 변수변환__  \n",
    "__4. 결측치 처리__  \n",
    "__5. 다변량 데이터 탐색__  \n",
    "\n"
   ]
  },
  {
   "cell_type": "markdown",
   "id": "c4d520ff",
   "metadata": {},
   "source": [
    "### 4.1. 단변량 데이터 검색(Exploring Univariate Data)\n",
    "4.1.1 먼저 데이터 세트의 특성과 구조를 파악해 봅시다.  \n",
    "+  __데이터세트명__<font color=#D9116E>.__함수명()__ </font>\n",
    "+ <font color=#D9116E>.__info()__ </font> : 기본 정보 반환(튜플 수, 컬럼 수, (컬럼명, 값이있는튜플의개수, 자료형), 메모리 사용량)\n",
    "+ <font color=#D9116E>.__head()__ </font> : 상위 5개 반환\n",
    "+ <font color=#D9116E>.__tail()__ </font> : 하위 5개 반환\n",
    "+ .index : 데이터프레임에서 index 구성요소 확인\n",
    "+ .dtypes : 데이터프레임에서 각 열의 데이터 유형이 있는 Series를 확인\n",
    "+ ['컬럼명'].dtype : 컬럼명의 데이터 유형을 확인\n",
    "+ .columns : 데이터프레임의 컬럼의 구성요소 확인\n",
    "+ .values : 데이터프레임에서 values의 구성요소 확인\n",
    "+ .shape : 데이터프레임의 행과 열의 수를 튜플 구조로 확인\n",
    "+ .index.values : index의 값을 ndarray 구조로 확인\n",
    "+ .columns.values : columns의 값을 ndarray 구조로 확인\n",
    "  \n",
    "   \n",
    "     \n",
    "4.1.2 하나의 변수를 탐색합니다.\n",
    "+ __범주형(categorical variable)__ 자료 탐색   \n",
    "    + __데이터세트명['변수']__<font color=#D9116E>.__함수명()__ </font>\n",
    "    + <font color=#D9116E>.__value_counts()__ </font> : 범주별 빈도 반환\n",
    "    + <font color=#D9116E>.__replace([범주명1,...], [변경할범주명1, ...])__ </font> : 범주명 변환\n",
    "+ __수치형(numeric/continuous variable)__ 자료 탐색\n",
    "    +  __데이터세트명__<font color=#D9116E>.__함수명()__ </font>\n",
    "    + <font color=#D9116E>.__describe()__ </font> : 기술통계량(count,mean,std,min,25%,50%,75%,max) 확인\n",
    "    + <font color=#D9116E>.__skew()__</font> : 왜도(skewness) 확인  \n",
    "    + <font color=#D9116E>.__kurtosis()__</font> : 첨도(kurtosis) 확인 "
   ]
  },
  {
   "cell_type": "markdown",
   "id": "23309a48",
   "metadata": {},
   "source": [
    "#### 1. 데이터를 불러 옵니다.  \n",
    "Ex_CEOSalary.csv: 쉼표로 구분된 한글 csv 파일"
   ]
  },
  {
   "cell_type": "code",
   "execution_count": 45,
   "id": "e1e6cfee",
   "metadata": {},
   "outputs": [],
   "source": [
    "import pandas as pd\n",
    "data = pd.read_csv('Ex_CEOSalary.csv', encoding='utf-8') "
   ]
  },
  {
   "cell_type": "markdown",
   "id": "2a8e7fa5",
   "metadata": {},
   "source": [
    "#### 2. 전체 데이터세트 정보 확인 "
   ]
  },
  {
   "cell_type": "code",
   "execution_count": 49,
   "id": "812bbe18",
   "metadata": {},
   "outputs": [
    {
     "name": "stdout",
     "output_type": "stream",
     "text": [
      "<class 'pandas.core.frame.DataFrame'>\n",
      "RangeIndex: 209 entries, 0 to 208\n",
      "Data columns (total 4 columns):\n",
      " #   Column    Non-Null Count  Dtype  \n",
      "---  ------    --------------  -----  \n",
      " 0   salary    209 non-null    int64  \n",
      " 1   sales     209 non-null    float64\n",
      " 2   roe       209 non-null    float64\n",
      " 3   industry  209 non-null    int64  \n",
      "dtypes: float64(2), int64(2)\n",
      "memory usage: 6.7 KB\n"
     ]
    }
   ],
   "source": [
    "data.info() # 데이터세트의 기본 정보"
   ]
  },
  {
   "cell_type": "code",
   "execution_count": 51,
   "id": "615f563d",
   "metadata": {},
   "outputs": [
    {
     "data": {
      "text/plain": [
       "salary        int64\n",
       "sales       float64\n",
       "roe         float64\n",
       "industry      int64\n",
       "dtype: object"
      ]
     },
     "execution_count": 51,
     "metadata": {},
     "output_type": "execute_result"
    }
   ],
   "source": [
    "data.dtypes"
   ]
  },
  {
   "cell_type": "code",
   "execution_count": 53,
   "id": "267ca29b",
   "metadata": {},
   "outputs": [
    {
     "data": {
      "text/plain": [
       "Index(['salary', 'sales', 'roe', 'industry'], dtype='object')"
      ]
     },
     "execution_count": 53,
     "metadata": {},
     "output_type": "execute_result"
    }
   ],
   "source": [
    "data.columns"
   ]
  },
  {
   "cell_type": "markdown",
   "id": "c702b5ac",
   "metadata": {},
   "source": [
    "__Ex_CEOSalary.csv 데이터세트__ 는 기업의 매출(sales)과 수익(roe)이 CEO의 연봉에 미치는 영향을 파악하는 데이터입니다.  \n",
    "  \n",
    "RangeIndex(행): 209개, Index는 0부터 208  \n",
    "Data columns: 총 4개    \n",
    "   \n",
    "|column name | dtype |\n",
    "|------------|-------|\n",
    "|salary(연봉) | 정수형  | \n",
    "|sales(매출)   | 실수형  |\n",
    "|roe(수익)     | 실수형  |\n",
    "|industry(산업유형)| 정수형|"
   ]
  },
  {
   "cell_type": "code",
   "execution_count": 30,
   "id": "7fcf177a",
   "metadata": {},
   "outputs": [
    {
     "data": {
      "text/html": [
       "<div>\n",
       "<style scoped>\n",
       "    .dataframe tbody tr th:only-of-type {\n",
       "        vertical-align: middle;\n",
       "    }\n",
       "\n",
       "    .dataframe tbody tr th {\n",
       "        vertical-align: top;\n",
       "    }\n",
       "\n",
       "    .dataframe thead th {\n",
       "        text-align: right;\n",
       "    }\n",
       "</style>\n",
       "<table border=\"1\" class=\"dataframe\">\n",
       "  <thead>\n",
       "    <tr style=\"text-align: right;\">\n",
       "      <th></th>\n",
       "      <th>salary</th>\n",
       "      <th>sales</th>\n",
       "      <th>roe</th>\n",
       "      <th>industry</th>\n",
       "    </tr>\n",
       "  </thead>\n",
       "  <tbody>\n",
       "    <tr>\n",
       "      <th>0</th>\n",
       "      <td>1095</td>\n",
       "      <td>27595.000000</td>\n",
       "      <td>14.1</td>\n",
       "      <td>1</td>\n",
       "    </tr>\n",
       "    <tr>\n",
       "      <th>1</th>\n",
       "      <td>1001</td>\n",
       "      <td>9958.000000</td>\n",
       "      <td>10.9</td>\n",
       "      <td>1</td>\n",
       "    </tr>\n",
       "    <tr>\n",
       "      <th>2</th>\n",
       "      <td>1122</td>\n",
       "      <td>6125.899902</td>\n",
       "      <td>23.5</td>\n",
       "      <td>1</td>\n",
       "    </tr>\n",
       "    <tr>\n",
       "      <th>3</th>\n",
       "      <td>578</td>\n",
       "      <td>16246.000000</td>\n",
       "      <td>5.9</td>\n",
       "      <td>1</td>\n",
       "    </tr>\n",
       "    <tr>\n",
       "      <th>4</th>\n",
       "      <td>1368</td>\n",
       "      <td>21783.199219</td>\n",
       "      <td>13.8</td>\n",
       "      <td>1</td>\n",
       "    </tr>\n",
       "  </tbody>\n",
       "</table>\n",
       "</div>"
      ],
      "text/plain": [
       "   salary         sales   roe  industry\n",
       "0    1095  27595.000000  14.1         1\n",
       "1    1001   9958.000000  10.9         1\n",
       "2    1122   6125.899902  23.5         1\n",
       "3     578  16246.000000   5.9         1\n",
       "4    1368  21783.199219  13.8         1"
      ]
     },
     "execution_count": 30,
     "metadata": {},
     "output_type": "execute_result"
    }
   ],
   "source": [
    "data.head()"
   ]
  },
  {
   "cell_type": "markdown",
   "id": "d17d1f72",
   "metadata": {},
   "source": [
    "#### 3. 범주형(categorical) 자료형 탐색\n",
    "__3.1__ 데이터세트명.__replace()__: 각 범주에 라벨을 부여"
   ]
  },
  {
   "cell_type": "code",
   "execution_count": 41,
   "id": "cb2df453",
   "metadata": {},
   "outputs": [
    {
     "data": {
      "text/plain": [
       "Service    72\n",
       "Finance    60\n",
       "IT         46\n",
       "Others     31\n",
       "Name: industry, dtype: int64"
      ]
     },
     "execution_count": 41,
     "metadata": {},
     "output_type": "execute_result"
    }
   ],
   "source": [
    "data['industry'] = data['industry'].replace([1,2,3,4], ['Service', 'IT', 'Finance', 'Others'])\n",
    "data['industry'].value_counts()"
   ]
  },
  {
   "cell_type": "markdown",
   "id": "f84834d9",
   "metadata": {},
   "source": [
    "__3.2__ 데이터세트명['변수이름'].__value_counts()__ : 각 범주의 수를 파악"
   ]
  },
  {
   "cell_type": "code",
   "execution_count": 42,
   "id": "92436757",
   "metadata": {},
   "outputs": [
    {
     "data": {
      "text/plain": [
       "Service    72\n",
       "Finance    60\n",
       "IT         46\n",
       "Others     31\n",
       "Name: industry, dtype: int64"
      ]
     },
     "execution_count": 42,
     "metadata": {},
     "output_type": "execute_result"
    }
   ],
   "source": [
    "data['industry'].value_counts()"
   ]
  },
  {
   "cell_type": "markdown",
   "id": "1dbff925",
   "metadata": {},
   "source": [
    "__3.3__   __.plot(kind=\"\")__ 시각화로 이해   "
   ]
  },
  {
   "cell_type": "code",
   "execution_count": 44,
   "id": "6102b643",
   "metadata": {},
   "outputs": [
    {
     "data": {
      "text/plain": [
       "<AxesSubplot:ylabel='industry'>"
      ]
     },
     "execution_count": 44,
     "metadata": {},
     "output_type": "execute_result"
    },
    {
     "data": {
      "image/png": "[encoded data removed]",
      "text/plain": [
       "<Figure size 432x288 with 1 Axes>"
      ]
     },
     "metadata": {
      "needs_background": "light"
     },
     "output_type": "display_data"
    }
   ],
   "source": [
    "%matplotlib inline\n",
    "data['industry'].value_counts().plot(kind=\"pie\") # 파이플롯\n",
    "data['industry'].value_counts().plot(kind=\"bar\") # 세로막대 플롯\n",
    "data['industry'].value_counts().plot(kind=\"line\") # 선 플롯(기본값)"
   ]
  },
  {
   "cell_type": "markdown",
   "id": "258b0ca2",
   "metadata": {},
   "source": [
    "#### 4. 연속형(numeric/continuos) 자료형 탐색  \n",
    "__4.1__ 데이터세트명.__describe()__ : 기술통계량을 이용하여 모든 변수별 요약 통계량을 반환   "
   ]
  },
  {
   "cell_type": "code",
   "execution_count": 8,
   "id": "34692a50",
   "metadata": {},
   "outputs": [
    {
     "data": {
      "text/html": [
       "<div>\n",
       "<style scoped>\n",
       "    .dataframe tbody tr th:only-of-type {\n",
       "        vertical-align: middle;\n",
       "    }\n",
       "\n",
       "    .dataframe tbody tr th {\n",
       "        vertical-align: top;\n",
       "    }\n",
       "\n",
       "    .dataframe thead th {\n",
       "        text-align: right;\n",
       "    }\n",
       "</style>\n",
       "<table border=\"1\" class=\"dataframe\">\n",
       "  <thead>\n",
       "    <tr style=\"text-align: right;\">\n",
       "      <th></th>\n",
       "      <th>salary</th>\n",
       "      <th>sales</th>\n",
       "      <th>roe</th>\n",
       "    </tr>\n",
       "  </thead>\n",
       "  <tbody>\n",
       "    <tr>\n",
       "      <th>count</th>\n",
       "      <td>209.000000</td>\n",
       "      <td>209.000000</td>\n",
       "      <td>209.000000</td>\n",
       "    </tr>\n",
       "    <tr>\n",
       "      <th>mean</th>\n",
       "      <td>1281.119617</td>\n",
       "      <td>6923.793282</td>\n",
       "      <td>17.184211</td>\n",
       "    </tr>\n",
       "    <tr>\n",
       "      <th>std</th>\n",
       "      <td>1372.345308</td>\n",
       "      <td>10633.271088</td>\n",
       "      <td>8.518509</td>\n",
       "    </tr>\n",
       "    <tr>\n",
       "      <th>min</th>\n",
       "      <td>223.000000</td>\n",
       "      <td>175.199997</td>\n",
       "      <td>0.500000</td>\n",
       "    </tr>\n",
       "    <tr>\n",
       "      <th>25%</th>\n",
       "      <td>736.000000</td>\n",
       "      <td>2210.300049</td>\n",
       "      <td>12.400000</td>\n",
       "    </tr>\n",
       "    <tr>\n",
       "      <th>50%</th>\n",
       "      <td>1039.000000</td>\n",
       "      <td>3705.199951</td>\n",
       "      <td>15.500000</td>\n",
       "    </tr>\n",
       "    <tr>\n",
       "      <th>75%</th>\n",
       "      <td>1407.000000</td>\n",
       "      <td>7177.000000</td>\n",
       "      <td>20.000000</td>\n",
       "    </tr>\n",
       "    <tr>\n",
       "      <th>max</th>\n",
       "      <td>14822.000000</td>\n",
       "      <td>97649.898438</td>\n",
       "      <td>56.299999</td>\n",
       "    </tr>\n",
       "  </tbody>\n",
       "</table>\n",
       "</div>"
      ],
      "text/plain": [
       "             salary         sales         roe\n",
       "count    209.000000    209.000000  209.000000\n",
       "mean    1281.119617   6923.793282   17.184211\n",
       "std     1372.345308  10633.271088    8.518509\n",
       "min      223.000000    175.199997    0.500000\n",
       "25%      736.000000   2210.300049   12.400000\n",
       "50%     1039.000000   3705.199951   15.500000\n",
       "75%     1407.000000   7177.000000   20.000000\n",
       "max    14822.000000  97649.898438   56.299999"
      ]
     },
     "execution_count": 8,
     "metadata": {},
     "output_type": "execute_result"
    }
   ],
   "source": [
    "data.describe()"
   ]
  },
  {
   "cell_type": "markdown",
   "id": "ab0c8857",
   "metadata": {},
   "source": [
    "count: 209개의 행  \n",
    "__mean__ : 평균  \n",
    "std : 표준편차  \n",
    "min : 최소값  \n",
    "25% : IQR 1분위수  \n",
    "__50%__ : IOR 2분위수 (median)  \n",
    "75% : IOR 3분위수  \n",
    "max : 최대값  \n",
    " \n",
    "__평균과 중위수__의 차이가 작을수록 __이상치__가 __적은__ 데이터입니다."
   ]
  },
  {
   "cell_type": "markdown",
   "id": "843c63b5",
   "metadata": {},
   "source": [
    "__4.2__ 데이터세트명.__skew()__ : 왜도(skewness) 반환"
   ]
  },
  {
   "cell_type": "code",
   "execution_count": 9,
   "id": "9f7ecf30",
   "metadata": {},
   "outputs": [
    {
     "name": "stderr",
     "output_type": "stream",
     "text": [
      "/var/folders/8k/qkyjfwv90l1dk_038ty806ym0000gn/T/ipykernel_1426/1188251951.py:1: FutureWarning: Dropping of nuisance columns in DataFrame reductions (with 'numeric_only=None') is deprecated; in a future version this will raise TypeError.  Select only valid columns before calling the reduction.\n",
      "  data.skew()\n"
     ]
    },
    {
     "data": {
      "text/plain": [
       "salary    6.904577\n",
       "sales     5.035336\n",
       "roe       1.572126\n",
       "dtype: float64"
      ]
     },
     "execution_count": 9,
     "metadata": {},
     "output_type": "execute_result"
    }
   ],
   "source": [
    "data.skew()"
   ]
  },
  {
   "cell_type": "markdown",
   "id": "ec3e7e8f",
   "metadata": {},
   "source": [
    "__4.3__ 데이터세트명.__kurtosis()__: 첨도 반환"
   ]
  },
  {
   "cell_type": "code",
   "execution_count": 10,
   "id": "ea6f8ec0",
   "metadata": {},
   "outputs": [
    {
     "name": "stderr",
     "output_type": "stream",
     "text": [
      "/var/folders/8k/qkyjfwv90l1dk_038ty806ym0000gn/T/ipykernel_1426/2361870383.py:1: FutureWarning: Dropping of nuisance columns in DataFrame reductions (with 'numeric_only=None') is deprecated; in a future version this will raise TypeError.  Select only valid columns before calling the reduction.\n",
      "  data.kurtosis()\n"
     ]
    },
    {
     "data": {
      "text/plain": [
       "salary    58.971229\n",
       "sales     33.115193\n",
       "roe        3.797366\n",
       "dtype: float64"
      ]
     },
     "execution_count": 10,
     "metadata": {},
     "output_type": "execute_result"
    }
   ],
   "source": [
    "data.kurtosis()"
   ]
  },
  {
   "cell_type": "markdown",
   "id": "0f1c7d32",
   "metadata": {},
   "source": [
    "__4.4__ __.hist()__ 히스토그램으로 한 번에 확인할 수 있음"
   ]
  },
  {
   "cell_type": "code",
   "execution_count": 11,
   "id": "da464ed8",
   "metadata": {},
   "outputs": [
    {
     "data": {
      "text/plain": [
       "<AxesSubplot:>"
      ]
     },
     "execution_count": 11,
     "metadata": {},
     "output_type": "execute_result"
    },
    {
     "data": {
      "image/png": "[encoded data removed]",
      "text/plain": [
       "<Figure size 1440x1080 with 1 Axes>"
      ]
     },
     "metadata": {
      "needs_background": "light"
     },
     "output_type": "display_data"
    }
   ],
   "source": [
    "import matplotlib.pyplot as plt\n",
    "data['salary'].hist(bins=50, figsize=(20,15))"
   ]
  },
  {
   "cell_type": "markdown",
   "id": "2e2ca947",
   "metadata": {},
   "source": [
    "역시나 왼쪽에 큰 값이 존재합니다."
   ]
  }
 ],
 "metadata": {
  "kernelspec": {
   "display_name": "Python 3 (ipykernel)",
   "language": "python",
   "name": "python3"
  },
  "language_info": {
   "codemirror_mode": {
    "name": "ipython",
    "version": 3
   },
   "file_extension": ".py",
   "mimetype": "text/x-python",
   "name": "python",
   "nbconvert_exporter": "python",
   "pygments_lexer": "ipython3",
   "version": "3.8.13"
  }
 },
 "nbformat": 4,
 "nbformat_minor": 5
}
