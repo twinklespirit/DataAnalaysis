{
 "cells": [
  {
   "cell_type": "markdown",
   "id": "2b6e4e69",
   "metadata": {},
   "source": [
    "## 2. numpy 함수\n",
    "+ numerical python  \n",
    "+ 과학계산을 위한 파이썬 데이터분석 패키지  \n",
    "+ 다양한 연산 기능을 제공  \n",
    "\n",
    "### 2.1 다차원 배열(ndarray)\n",
    "python은 배열을 이용할 수 없습니다. 쓰는 것 같았다면, list를 본 것입니다.  \n",
    "array와 list의 차이점은 array는 정적인 메모리라 크기를 변경하려면 삭제 후 재생성해야 합니다.  \n",
    "list는 그럴 필요가 없습니다. 동적인 메모리라 크기가 자유롭게 변합니다. \n",
    "+ 배열은 같은 자료형의 데이터를 담는 자료구조<font color=green> 예를들어 2행3열 (2차원)<font>  \n",
    "+ __rank__: 배열의 차원<font color=green> 2<font>                 \n",
    "+ __shape__: 각 차원의 크기를 튜플로 표시한 것<font color=green> (2,3)<font>         \n",
    "+ 배열의 타입은 ndarray"
   ]
  },
  {
   "cell_type": "markdown",
   "id": "eeba132f",
   "metadata": {},
   "source": [
    "__1. numpy 설치 (jupyter notebook은 이미 되어 있음)__  \n",
    "__2. numpy 불러오기__"
   ]
  },
  {
   "cell_type": "code",
   "execution_count": 4,
   "id": "e8f0391a",
   "metadata": {},
   "outputs": [],
   "source": [
    "import numpy as np"
   ]
  },
  {
   "cell_type": "markdown",
   "id": "f8ad131b",
   "metadata": {},
   "source": [
    "#### 3. numpy 배열 생성하기\n",
    "np.array([리스트요소1, 리스트요소2, ...])  \n",
    "np.arange(시작, 끝, 간격) 혹은 np.arrange(끝)"
   ]
  },
  {
   "cell_type": "code",
   "execution_count": 18,
   "id": "de55ee03",
   "metadata": {},
   "outputs": [
    {
     "name": "stdout",
     "output_type": "stream",
     "text": [
      "[1 2 3 4]\n",
      "[1 3 5 7 9]\n",
      "[0 1 2 3 4 5 6 7 8 9]\n"
     ]
    }
   ],
   "source": [
    "arr = np.array([1,2,3,4]) # [1 2 3 4] 출력\n",
    "arg1 = np.arange(1,10,2)  # [1 3 5 7 9] 출력\n",
    "arg2 = np.arange(10)      # 0부터 10개의 수 [0 1 2 3 4 5 6 7 8 9] 출력\n",
    "print(arr)\n",
    "print(arg1)\n",
    "print(arg2)"
   ]
  },
  {
   "cell_type": "markdown",
   "id": "80904569",
   "metadata": {},
   "source": [
    "리스트는 0부터 시작한다는 것을 기억하자!"
   ]
  },
  {
   "cell_type": "markdown",
   "id": "22ea01c3",
   "metadata": {},
   "source": [
    "#### 4. numpy 행렬 생성하기 (배열을 행렬로 변환하기)\n",
    "배열(array): 동일한 자료형, 여러 개의 자료  \n",
    "행렬(matrix): array의 하위 자료형, 수학계산에 좀 더 편리"
   ]
  },
  {
   "cell_type": "code",
   "execution_count": 19,
   "id": "590b6a9b",
   "metadata": {},
   "outputs": [
    {
     "name": "stdout",
     "output_type": "stream",
     "text": [
      "[[0 1 2 3 4]\n",
      " [5 6 7 8 9]]\n"
     ]
    }
   ],
   "source": [
    "mat = arg2.reshape(2,5) # 2행 5열의 행렬로 변환\n",
    "print(mat) # [[0 1 2 3 4] [5 6 7 8 9]] 출력 "
   ]
  },
  {
   "cell_type": "markdown",
   "id": "304db871",
   "metadata": {},
   "source": [
    "#### 5. numpy 행렬 연산하기"
   ]
  },
  {
   "cell_type": "code",
   "execution_count": 29,
   "id": "d49368fb",
   "metadata": {},
   "outputs": [
    {
     "name": "stdout",
     "output_type": "stream",
     "text": [
      "[[ 1  2  3  4  5]\n",
      " [ 6  7  8  9 10]]\n",
      "[[11 12 13 14 15]\n",
      " [16 17 18 19 20]]\n",
      "[[12 14 16 18 20]\n",
      " [22 24 26 28 30]]\n",
      "[[-10 -10 -10 -10 -10]\n",
      " [-10 -10 -10 -10 -10]]\n",
      "[[ 11  24  39  56  75]\n",
      " [ 96 119 144 171 200]]\n",
      "[[ 7 10]\n",
      " [15 22]]\n"
     ]
    }
   ],
   "source": [
    "arg3 = np.arange(1,11).reshape(2,5)\n",
    "print(arg3)\n",
    "arg4 = np.arange(11,21).reshape(2,5)\n",
    "print(arg4)\n",
    "print(np.add(arg3,arg4))      # 행렬의 덧셈\n",
    "print(np.subtract(arg3,arg4)) # 행렬의 뺄셈\n",
    "print(np.multiply(arg3,arg4)) # 행렬의 곱셈\n",
    "\n",
    "sq_mat = np.arange(1,5).reshape(2,2)\n",
    "print(np.dot(sq_mat,sq_mat))"
   ]
  },
  {
   "cell_type": "markdown",
   "id": "107255f6",
   "metadata": {},
   "source": [
    "#### 6. 기타 명령어 "
   ]
  },
  {
   "cell_type": "code",
   "execution_count": 32,
   "id": "4a18cc06",
   "metadata": {},
   "outputs": [
    {
     "name": "stdout",
     "output_type": "stream",
     "text": [
      "1\n",
      "1\n",
      "int64\n",
      "(2, 5)\n"
     ]
    }
   ],
   "source": [
    "print(np.amin(arg3)) # 행렬의 최소값\n",
    "print(np.amin(arg3)) # 행렬의 최대값\n",
    "print(arg3.dtype)    # 자료구조의 자료형\n",
    "print(arg3.shape)    # 자료구조의 크기(행,열,차원)"
   ]
  }
 ],
 "metadata": {
  "jupytext": {
   "formats": "ipynb,auto:light"
  },
  "kernelspec": {
   "display_name": "Python 3 (ipykernel)",
   "language": "python",
   "name": "python3"
  },
  "language_info": {
   "codemirror_mode": {
    "name": "ipython",
    "version": 3
   },
   "file_extension": ".py",
   "mimetype": "text/x-python",
   "name": "python",
   "nbconvert_exporter": "python",
   "pygments_lexer": "ipython3",
   "version": "3.8.13"
  }
 },
 "nbformat": 4,
 "nbformat_minor": 5
}
