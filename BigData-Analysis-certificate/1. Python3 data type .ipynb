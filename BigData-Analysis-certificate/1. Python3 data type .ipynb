{
 "cells": [
  {
   "cell_type": "markdown",
   "id": "5cb0ce0c",
   "metadata": {},
   "source": [
    "## 1. Python Data type  \n",
    "참고  \n",
    "파이썬 프로그래밍의 기초, 자료형(1) https://www.youtube.com/watch?v=3R6vFdb7YI4&t=1500s  \n",
    "파이썬 기본 자료 구조 (revision) https://wikidocs.net/2845  \n",
    "\n",
    "\n",
    "### 1. 자료\n",
    "+ 숫자형\n",
    "    + 정수\n",
    "    + 실수\n",
    "        + print(\"0.4f\" % 3.321342) -> 소수점 4자리까지 출력\n",
    "+ 문자형  \n",
    "|연산    | 사용방법             | 설명    |\n",
    "|-------|--------------------|----------------------------------------|\n",
    "|인덱싱   |변수명[인덱스값]        | 인덱스값에 있는 문자를 반환                  |\n",
    "|슬라이싱  |변수명[처음값:끝값:간격] | 처음부터(초기값: 0) 끝까지 간격마다의 문자를 반환 |\n",
    "+ 논리/불린\n",
    "\n",
    "### 2. 자료구조\n",
    "#### 2.1 리스트"
   ]
  },
  {
   "cell_type": "code",
   "execution_count": 1,
   "id": "250e49a9",
   "metadata": {},
   "outputs": [
    {
     "name": "stdout",
     "output_type": "stream",
     "text": [
      "3.4231\n"
     ]
    }
   ],
   "source": [
    "print(\"%0.4f\" % 3.423123)"
   ]
  },
  {
   "cell_type": "code",
   "execution_count": 10,
   "id": "0dc181a2",
   "metadata": {},
   "outputs": [
    {
     "name": "stdout",
     "output_type": "stream",
     "text": [
      "{1, 2, 3}\n",
      "{1, 2, 3, 4}\n",
      "{1, 2, 3, 4, 5, 6, 7, 8}\n",
      "{2, 3, 4, 5, 6, 7, 8}\n"
     ]
    }
   ],
   "source": [
    "set = s\n",
    "s = {1,2,3}\n",
    "\n",
    "s.add(3)\n",
    "print(s) # set에 3이 있으므로 추가되지 않고 {1,2,3} 출력\n",
    "\n",
    "s.add(4)\n",
    "print(s) # set에 4가 없으므로 추가되어 {1,2,3,4} 출력\n",
    "\n",
    "s.update([5,6,7,8]) # set에 추가되어 {1,2,3,4,5,6,7,8} 출력\n",
    "print(s)\n",
    "\n",
    "s.remove(1) # set에 1이 제거되어 {2,3,4,5,6,7,8} 출력 !주의! 여러 개의 값을 제거하지는 못함\n",
    "print(s)\n",
    "\n"
   ]
  },
  {
   "cell_type": "markdown",
   "id": "dc9ab18c",
   "metadata": {},
   "source": [
    "#### 2.2 튜플\n",
    "+ tuple = (요소1, 요소2, 요소3...)  \n",
    "+ 요소를 변경할 수 없음 \n",
    "    + tuple = (1,2,3,4)\n",
    "    + tuple[2] = 4 -> 실행되지 않음"
   ]
  },
  {
   "cell_type": "markdown",
   "id": "35bc33eb",
   "metadata": {},
   "source": [
    "#### 2.3 집합\n",
    "+ 순서가 없음\n",
    "+ 변경이 불가능\n",
    "+ 중복을 허용하지 않음\n"
   ]
  },
  {
   "cell_type": "code",
   "execution_count": null,
   "id": "17f6858b",
   "metadata": {},
   "outputs": [],
   "source": []
  },
  {
   "cell_type": "markdown",
   "id": "c5898364",
   "metadata": {},
   "source": [
    "#### 2.4 사전 (Dictionary)\n",
    "+ __{ \"key\" : value }__ 로 구성되어 있다.  \n",
    "+ 순서가 지정\n",
    "+ 사전의 요소를 생성, 수정, 삭제 등의 변경 가능\n",
    "+ key의 중복을 허용하지 않음\n",
    "+ __key__ 를 통해 __value__ 을 참조\n",
    "\n",
    "+ 함수\n",
    "    + __len(사전이름)__ : 사전의 항목 수를 반환\n",
    "    + __type(사전이름)__ : 사전의 자료형 반환 -> 무조건 'dict'"
   ]
  },
  {
   "cell_type": "markdown",
   "id": "1e1def1e",
   "metadata": {},
   "source": [
    "__1.__ 사전을 생성한다.  \n",
    "<font color = #618C03>사전이름 = { \"key1\" : value, \"key2\" : value, ... }</font>"
   ]
  },
  {
   "cell_type": "code",
   "execution_count": 4,
   "id": "51a19a3a",
   "metadata": {},
   "outputs": [],
   "source": [
    "dictionary = {'number': 1, 'name': 'Twinkle', 'age': 25}\n",
    "d = dictionary"
   ]
  },
  {
   "cell_type": "markdown",
   "id": "66aae0c1",
   "metadata": {},
   "source": [
    "__2.__ 사전에 데이터{\"key\" : value}를 추가한다.  \n",
    "<font color = #618C03>사전이름[ \"key\" ] = value</font>"
   ]
  },
  {
   "cell_type": "code",
   "execution_count": 5,
   "id": "615eb5c1",
   "metadata": {},
   "outputs": [
    {
     "name": "stdout",
     "output_type": "stream",
     "text": [
      "{'number': 1, 'name': 'Twinkle', 'age': 25, 'sex': 'female'}\n",
      "{'number': 1, 'name': 'Twinkle', 'age': 25, 'sex': 'female', 'hobby': {'dance, sleeping'}}\n"
     ]
    }
   ],
   "source": [
    "d['sex'] = 'female' # d라는 변수에 키가 'sex'일 때, 값을 'female'로 저장\n",
    "print(d)\n",
    "\n",
    "d['hobby'] = {'dance, sleeping'} # d라는 변수에 키가 'hobby'일 때, 값을 {'dance, sleeping'}로 저장\n",
    "print(d)"
   ]
  },
  {
   "cell_type": "markdown",
   "id": "ef8ebdea",
   "metadata": {},
   "source": [
    "__3.__ 사전에 데이터의 값을 변경한다.  \n",
    "<font color = #618C03>사전이름[ \"key\" ] = value</font>"
   ]
  },
  {
   "cell_type": "code",
   "execution_count": 7,
   "id": "adcde89f",
   "metadata": {},
   "outputs": [
    {
     "name": "stdout",
     "output_type": "stream",
     "text": [
      "{'number': 1, 'name': 'Twinkle', 'age': 24, 'sex': 'female'}\n"
     ]
    }
   ],
   "source": [
    "d['age'] = 24\n",
    "print(d) # d라는 변수에 키가 'age'일 때, 값을 24로 변경"
   ]
  },
  {
   "cell_type": "markdown",
   "id": "d22deafe",
   "metadata": {},
   "source": [
    "__3.__ 사전에 데이터를 삭제한다.  \n",
    "<font color = #618C03>__del__ 사전이름[ \"key\" ]</font>"
   ]
  },
  {
   "cell_type": "code",
   "execution_count": 6,
   "id": "efd718c7",
   "metadata": {},
   "outputs": [
    {
     "name": "stdout",
     "output_type": "stream",
     "text": [
      "{'number': 1, 'name': 'Twinkle', 'age': 25, 'sex': 'female'}\n"
     ]
    }
   ],
   "source": [
    "del d['hobby'] # d라는 변수에 키가 'hobby'일 때, 키와 값 모두 삭제\n",
    "print(d)"
   ]
  }
 ],
 "metadata": {
  "jupytext": {
   "formats": "ipynb,auto:light"
  },
  "kernelspec": {
   "display_name": "Python 3 (ipykernel)",
   "language": "python",
   "name": "python3"
  },
  "language_info": {
   "codemirror_mode": {
    "name": "ipython",
    "version": 3
   },
   "file_extension": ".py",
   "mimetype": "text/x-python",
   "name": "python",
   "nbconvert_exporter": "python",
   "pygments_lexer": "ipython3",
   "version": "3.8.13"
  }
 },
 "nbformat": 4,
 "nbformat_minor": 5
}
